{
 "cells": [
  {
   "cell_type": "markdown",
   "metadata": {
    "id": "n_ZwYtYkkhMw"
   },
   "source": [
    "In this part of the assignment you have to implement multivariate gradient descent to find the minimas (local and global) of the given function:\n",
    "Note : you can find different minimas by changing your initialisation.  \n",
    "$f(x) = x^4 + x^2y^2 - y^2 + y^4 + 6$"
   ]
  },
  {
   "cell_type": "code",
   "execution_count": 1,
   "metadata": {
    "id": "AGC301Ynkcth"
   },
   "outputs": [
    {
     "name": "stdout",
     "output_type": "stream",
     "text": [
      "Iteration    0: F(x)=8.79e+01 df_dx:  2.200e+01,df_dy:-1.080e+02 x:9.998e-01,y:-2.99892e+00\n",
      "Iteration 100000: F(x)=5.76e+00 df_dx:  1.383e-01,df_dy:-5.776e-03 x:1.310e-01,y:-7.02480e-01\n",
      "Iteration 200000: F(x)=5.75e+00 df_dx:  4.748e-02,df_dy: 2.697e-03 x:4.725e-02,y:-7.05640e-01\n",
      "Iteration 300000: F(x)=5.75e+00 df_dx:  1.736e-02,df_dy: 4.192e-04 x:1.735e-02,y:-7.06896e-01\n",
      "Iteration 400000: F(x)=5.75e+00 df_dx:  6.381e-03,df_dy: 5.749e-05 x:6.380e-03,y:-7.07078e-01\n",
      "Iteration 500000: F(x)=5.75e+00 df_dx:  2.347e-03,df_dy: 7.790e-06 x:2.347e-03,y:-7.07103e-01\n",
      "Iteration 600000: F(x)=5.75e+00 df_dx:  8.635e-04,df_dy: 1.054e-06 x:8.634e-04,y:-7.07106e-01\n",
      "Iteration 700000: F(x)=5.75e+00 df_dx:  3.176e-04,df_dy: 1.427e-07 x:3.176e-04,y:-7.07107e-01\n",
      "Iteration 800000: F(x)=5.75e+00 df_dx:  1.169e-04,df_dy: 1.931e-08 x:1.169e-04,y:-7.07107e-01\n",
      "Iteration 900000: F(x)=5.75e+00 df_dx:  4.299e-05,df_dy: 2.613e-09 x:4.299e-05,y:-7.07107e-01\n",
      "\n",
      "(x,y) found by gradient descent: (0.0000,-0.7071) and the minimum function value is 5.75\n"
     ]
    }
   ],
   "source": [
    "#start your code here :)\n",
    "import numpy as np\n",
    "import matplotlib.pyplot as plt\n",
    "import math\n",
    "def func(x,y):\n",
    "    f= x**4+(x**2)*(y**2)-y**2+y**4+6\n",
    "    return f\n",
    "def gradient(x,y):\n",
    "    df_dx=4*x**3+2*x*y**2\n",
    "    df_dy=2*y*x**2-2*y+4*y**3\n",
    "    return df_dx,df_dy\n",
    "\n",
    "def multi_gd(x_in,y_in,learning_rate,iterations):\n",
    "    x=x_in\n",
    "    y=y_in\n",
    "    f_history=[]\n",
    "    v_history=[]\n",
    "    \n",
    "    for i in range(iterations):\n",
    "        df_dx,df_dy=gradient(x,y)\n",
    "        x = x - learning_rate * df_dx\n",
    "        y = y - learning_rate * df_dy\n",
    "\n",
    "        if i<10000000:\n",
    "            f_history.append(func(x,y))\n",
    "            v_history.append([x,y])\n",
    "        if i% math.ceil(iterations/10)==0:\n",
    "            print(f\"Iteration {i:4}: F(x)={f_history[-1]:0.2e}\",f\"df_dx: {df_dx: 0.3e},df_dy:{df_dy: 0.3e}\",f\"x:{x:0.3e},y:{y:0.5e}\")\n",
    "\n",
    "    return x,y,f_history,v_history   \n",
    "\n",
    "x_in=1;y_in=-3\n",
    "alpha=1.0e-5\n",
    "n=1000000 #since learning rate is small we are taking large number of iterations\n",
    "x_fin,y_fin,f_hist,v_hist=multi_gd(x_in,y_in,alpha,n)\n",
    "print()\n",
    "print(f\"(x,y) found by gradient descent: ({x_fin:2.4f},{y_fin:2.4f})\" f\" and the minimum function value is {func(x_fin,y_fin):2.2f}\")"
   ]
  },
  {
   "cell_type": "code",
   "execution_count": 2,
   "metadata": {},
   "outputs": [
    {
     "name": "stdout",
     "output_type": "stream",
     "text": [
      "Iteration    0: F(x)=2.08e+05 df_dx:  1.412e+04,df_dy:-3.680e+04 x:1.086e+01,y:-1.96320e+01\n",
      "Iteration 100000: F(x)=5.77e+00 df_dx:  1.972e-01,df_dy: 1.978e-02 x:1.818e-01,y:-6.90152e-01\n",
      "Iteration 200000: F(x)=5.75e+00 df_dx:  6.536e-02,df_dy: 5.814e-03 x:6.481e-02,y:-7.04156e-01\n",
      "Iteration 300000: F(x)=5.75e+00 df_dx:  2.378e-02,df_dy: 8.030e-04 x:2.376e-02,y:-7.06706e-01\n",
      "Iteration 400000: F(x)=5.75e+00 df_dx:  8.736e-03,df_dy: 1.081e-04 x:8.735e-03,y:-7.07053e-01\n",
      "Iteration 500000: F(x)=5.75e+00 df_dx:  3.213e-03,df_dy: 1.461e-05 x:3.213e-03,y:-7.07099e-01\n",
      "Iteration 600000: F(x)=5.75e+00 df_dx:  1.182e-03,df_dy: 1.976e-06 x:1.182e-03,y:-7.07106e-01\n",
      "Iteration 700000: F(x)=5.75e+00 df_dx:  4.349e-04,df_dy: 2.674e-07 x:4.349e-04,y:-7.07107e-01\n",
      "Iteration 800000: F(x)=5.75e+00 df_dx:  1.600e-04,df_dy: 3.619e-08 x:1.600e-04,y:-7.07107e-01\n",
      "Iteration 900000: F(x)=5.75e+00 df_dx:  5.885e-05,df_dy: 4.898e-09 x:5.885e-05,y:-7.07107e-01\n",
      "\n",
      "(x,y) found by gradient descent: (0.0000,-0.7071) and the minimum function value is 5.75\n"
     ]
    }
   ],
   "source": [
    "x_in=11;y_in=-20\n",
    "alpha=1.0e-5\n",
    "n=1000000 \n",
    "x_fin,y_fin,f_hist,v_hist=multi_gd(x_in,y_in,alpha,n)\n",
    "print()\n",
    "print(f\"(x,y) found by gradient descent: ({x_fin:2.4f},{y_fin:2.4f})\" f\" and the minimum function value is {func(x_fin,y_fin):2.2f}\")"
   ]
  },
  {
   "cell_type": "code",
   "execution_count": 3,
   "metadata": {},
   "outputs": [
    {
     "name": "stdout",
     "output_type": "stream",
     "text": [
      "Iteration    0: F(x)=9.79e+06 df_dx:  7.500e+05,df_dy:-7.499e+05 x:4.250e+01,y:-4.25010e+01\n",
      "Iteration 100000: F(x)=5.77e+00 df_dx:  2.051e-01,df_dy: 2.588e-02 x:1.886e-01,y:-6.87614e-01\n",
      "Iteration 200000: F(x)=5.75e+00 df_dx:  6.773e-02,df_dy: 6.360e-03 x:6.713e-02,y:-7.03909e-01\n",
      "Iteration 300000: F(x)=5.75e+00 df_dx:  2.463e-02,df_dy: 8.639e-04 x:2.460e-02,y:-7.06677e-01\n",
      "Iteration 400000: F(x)=5.75e+00 df_dx:  9.046e-03,df_dy: 1.160e-04 x:9.045e-03,y:-7.07049e-01\n",
      "Iteration 500000: F(x)=5.75e+00 df_dx:  3.327e-03,df_dy: 1.566e-05 x:3.327e-03,y:-7.07099e-01\n",
      "Iteration 600000: F(x)=5.75e+00 df_dx:  1.224e-03,df_dy: 2.119e-06 x:1.224e-03,y:-7.07106e-01\n",
      "Iteration 700000: F(x)=5.75e+00 df_dx:  4.503e-04,df_dy: 2.867e-07 x:4.503e-04,y:-7.07107e-01\n",
      "Iteration 800000: F(x)=5.75e+00 df_dx:  1.656e-04,df_dy: 3.880e-08 x:1.656e-04,y:-7.07107e-01\n",
      "Iteration 900000: F(x)=5.75e+00 df_dx:  6.094e-05,df_dy: 5.251e-09 x:6.094e-05,y:-7.07107e-01\n",
      "\n",
      "(x,y) found by gradient descent: (0.0000,-0.7071) and the minimum function value is 5.75\n"
     ]
    }
   ],
   "source": [
    "x_in=50;y_in=-50\n",
    "alpha=1.0e-5\n",
    "n=1000000 #since learning rate is small we are taking large number of iterations\n",
    "x_fin,y_fin,f_hist,v_hist=multi_gd(x_in,y_in,alpha,n)\n",
    "print()\n",
    "print(f\"(x,y) found by gradient descent: ({x_fin:2.4f},{y_fin:2.4f})\" f\" and the minimum function value is {func(x_fin,y_fin):2.2f}\")"
   ]
  },
  {
   "cell_type": "code",
   "execution_count": 4,
   "metadata": {
    "scrolled": true
   },
   "outputs": [
    {
     "name": "stdout",
     "output_type": "stream",
     "text": [
      "Iteration    0: F(x)=2.28e+07 df_dx:  2.025e+07,df_dy:-2.025e+07 x:-5.250e+01,y:5.24970e+01\n",
      "Iteration 100000: F(x)=5.77e+00 df_dx: -2.051e-01,df_dy:-2.588e-02 x:-1.886e-01,y:6.87614e-01\n",
      "Iteration 200000: F(x)=5.75e+00 df_dx: -6.773e-02,df_dy:-6.361e-03 x:-6.713e-02,y:7.03909e-01\n",
      "Iteration 300000: F(x)=5.75e+00 df_dx: -2.463e-02,df_dy:-8.640e-04 x:-2.460e-02,y:7.06677e-01\n",
      "Iteration 400000: F(x)=5.75e+00 df_dx: -9.046e-03,df_dy:-1.160e-04 x:-9.045e-03,y:7.07049e-01\n",
      "Iteration 500000: F(x)=5.75e+00 df_dx: -3.327e-03,df_dy:-1.566e-05 x:-3.327e-03,y:7.07099e-01\n",
      "Iteration 600000: F(x)=5.75e+00 df_dx: -1.224e-03,df_dy:-2.119e-06 x:-1.224e-03,y:7.07106e-01\n",
      "Iteration 700000: F(x)=5.75e+00 df_dx: -4.503e-04,df_dy:-2.867e-07 x:-4.503e-04,y:7.07107e-01\n",
      "Iteration 800000: F(x)=5.75e+00 df_dx: -1.656e-04,df_dy:-3.880e-08 x:-1.656e-04,y:7.07107e-01\n",
      "Iteration 900000: F(x)=5.75e+00 df_dx: -6.094e-05,df_dy:-5.252e-09 x:-6.094e-05,y:7.07107e-01\n",
      "\n",
      "(x,y) found by gradient descent: (-0.0000,0.7071) and the minimum function value is 5.75\n"
     ]
    }
   ],
   "source": [
    "x_in=150;y_in=-150\n",
    "alpha=1.0e-5\n",
    "n=1000000 #since learning rate is small we are taking large number of iterations\n",
    "x_fin,y_fin,f_hist,v_hist=multi_gd(x_in,y_in,alpha,n)\n",
    "print()\n",
    "print(f\"(x,y) found by gradient descent: ({x_fin:2.4f},{y_fin:2.4f})\" f\" and the minimum function value is {func(x_fin,y_fin):2.2f}\")"
   ]
  },
  {
   "cell_type": "raw",
   "metadata": {},
   "source": [
    "So ,the different initialisations give same minimum value of f(x), therefore it has a unique local minima.Also at the infinities the function take infinite large values. Hence the local minima is the gloabal minima which is 5.75 at (x,y)=(-0.0000,0.7071)"
   ]
  }
 ],
 "metadata": {
  "colab": {
   "provenance": []
  },
  "kernelspec": {
   "display_name": "Python 3 (ipykernel)",
   "language": "python",
   "name": "python3"
  },
  "language_info": {
   "codemirror_mode": {
    "name": "ipython",
    "version": 3
   },
   "file_extension": ".py",
   "mimetype": "text/x-python",
   "name": "python",
   "nbconvert_exporter": "python",
   "pygments_lexer": "ipython3",
   "version": "3.11.5"
  }
 },
 "nbformat": 4,
 "nbformat_minor": 1
}
